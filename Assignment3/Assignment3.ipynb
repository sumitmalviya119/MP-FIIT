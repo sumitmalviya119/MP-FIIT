{
  "nbformat": 4,
  "nbformat_minor": 0,
  "metadata": {
    "colab": {
      "provenance": []
    },
    "kernelspec": {
      "name": "python3",
      "display_name": "Python 3"
    },
    "language_info": {
      "name": "python"
    }
  },
  "cells": [
    {
      "cell_type": "code",
      "execution_count": 1,
      "metadata": {
        "id": "uUvmUbzXIDMJ"
      },
      "outputs": [],
      "source": [
        "import numpy as np\n",
        "import pandas as pd\n",
        "import math\n"
      ]
    },
    {
      "cell_type": "code",
      "source": [
        " #Map values in DF\n",
        "column_mappings = {\n",
        "    'age': {'<=30': 0, '31 to 40': 1, '>40': 2},\n",
        "    'income': {'low': 0, 'medium': 1, 'high': 2},\n",
        "    'student': {'no': 0, 'yes': 1},\n",
        "    'credit_rating': {'fair': 0, 'excellent': 1},\n",
        "    'buys_computer': {'no': 0, 'yes': 1}\n",
        "}\n",
        "\n",
        "# dataset\n",
        "data = {\n",
        "    'age': ['<=30', '<=30', '31 to 40', '>40', '>40', '>40', '31 to 40', '<=30', '<=30', '>40', '<=30', '31 to 40', '31 to 40', '>40'],\n",
        "    'income': ['high', 'high', 'high', 'medium', 'low', 'low', 'low', 'medium', 'low', 'medium', 'medium', 'medium', 'high', 'medium'],\n",
        "    'student': ['no', 'no', 'no', 'no', 'yes', 'yes', 'yes', 'no', 'yes', 'yes', 'yes', 'no', 'yes', 'no'],\n",
        "    'credit_rating': ['fair', 'excellent', 'fair', 'fair', 'fair', 'excellent', 'excellent', 'fair', 'fair', 'fair', 'excellent', 'excellent', 'fair', 'excellent'],\n",
        "    'buys_computer': ['no', 'no', 'yes', 'yes', 'yes', 'no', 'yes', 'no', 'yes', 'yes', 'yes', 'yes', 'yes', 'no']\n",
        "}"
      ],
      "metadata": {
        "id": "flbltq30IKGu"
      },
      "execution_count": 3,
      "outputs": []
    },
    {
      "cell_type": "code",
      "source": [
        "df = pd.DataFrame(data)\n",
        "\n",
        "# Encode categorical variables\n",
        "categorical_columns = ['age', 'income', 'student', 'credit_rating', 'buys_computer']\n",
        "df.replace(column_mappings, inplace=True)\n"
      ],
      "metadata": {
        "id": "FpJevFH7IVef"
      },
      "execution_count": 4,
      "outputs": []
    },
    {
      "cell_type": "code",
      "source": [
        "class DecisionTree:\n",
        "    def __init__(self, max_depth=None):\n",
        "        self.max_depth = max_depth\n",
        "\n",
        "    def fit(self, X, y, depth=0):\n",
        "        if depth == self.max_depth or len(set(y)) == 1:\n",
        "\n",
        "            unique_labels, counts = np.unique(y, return_counts=True)\n",
        "            return {'class': unique_labels[np.argmax(counts)]}\n",
        "\n",
        "        best_feature, best_threshold = self.find_best_split(X, y)\n",
        "\n",
        "        if best_feature is None:\n",
        "\n",
        "            unique_labels, counts = np.unique(y, return_counts=True)\n",
        "            return {'class': unique_labels[np.argmax(counts)]}\n",
        "\n",
        "        left_indices = X[:, best_feature] <= best_threshold\n",
        "        right_indices = ~left_indices\n",
        "\n",
        "\n",
        "        left_subtree = self.fit(X[left_indices], y[left_indices], depth + 1)\n",
        "        right_subtree = self.fit(X[right_indices], y[right_indices], depth + 1)\n",
        "\n",
        "        return {\n",
        "            'feature_index': best_feature,\n",
        "            'threshold': best_threshold,\n",
        "            'left': left_subtree,\n",
        "            'right': right_subtree\n",
        "        }\n",
        "\n",
        "    def find_best_split(self, X, y):\n",
        "        num_features = X.shape[1]\n",
        "        best_feature = None\n",
        "        best_threshold = None\n",
        "        best_info_gain = 0\n",
        "\n",
        "        for feature_index in range(num_features):\n",
        "            thresholds = np.unique(X[:, feature_index])\n",
        "\n",
        "            for threshold in thresholds:\n",
        "                left_indices = X[:, feature_index] <= threshold\n",
        "                right_indices = ~left_indices\n",
        "\n",
        "                if len(y[left_indices]) == 0 or len(y[right_indices]) == 0:\n",
        "                    continue\n",
        "\n",
        "                info_gain = self.calculate_info_gain(y, y[left_indices], y[right_indices])\n",
        "\n",
        "                if info_gain > best_info_gain:\n",
        "                    best_info_gain = info_gain\n",
        "                    best_feature = feature_index\n",
        "                    best_threshold = threshold\n",
        "\n",
        "        return best_feature, best_threshold\n",
        "\n",
        "    def calculate_info_gain(self, parent, left_child, right_child):\n",
        "        parent_entropy = self.entropy(parent)\n",
        "        left_child_entropy = (len(left_child) / len(parent)) * self.entropy(left_child)\n",
        "        right_child_entropy = (len(right_child) / len(parent)) * self.entropy(right_child)\n",
        "\n",
        "        info_gain = parent_entropy - (left_child_entropy + right_child_entropy)\n",
        "        return info_gain\n",
        "\n",
        "    def entropy(self, labels):\n",
        "\n",
        "        label_counts = {}\n",
        "        for label in labels:\n",
        "            if label in label_counts:\n",
        "                label_counts[label] += 1\n",
        "            else:\n",
        "                label_counts[label] = 1\n",
        "\n",
        "\n",
        "        entropy_value = 0\n",
        "        total_instances = len(labels)\n",
        "        for count in label_counts.values():\n",
        "            probability = count / total_instances\n",
        "            entropy_value -= probability * math.log2(probability)\n",
        "\n",
        "        return entropy_value\n",
        "\n",
        "    def predict_instance(self, instance, tree):\n",
        "        if 'class' in tree:\n",
        "            return tree['class']\n",
        "\n",
        "        if instance[tree['feature_index']] <= tree['threshold']:\n",
        "            return self.predict_instance(instance, tree['left'])\n",
        "        else:\n",
        "            return self.predict_instance(instance, tree['right'])\n",
        "\n",
        "    def predict(self, X, tree):\n",
        "        return [self.predict_instance(instance, tree) for instance in X]\n",
        "\n",
        "    def visualize_tree(self, tree, indent=''):\n",
        "        if 'class' in tree:\n",
        "            print(f\"{indent}Class: {tree['class']}\")\n",
        "        else:\n",
        "            print(f\"{indent}Feature {tree['feature_index']} <= {tree['threshold']}\")\n",
        "            print(f\"{indent}True:\")\n",
        "            self.visualize_tree(tree['left'], indent + '  ')\n",
        "            print(f\"{indent}False:\")\n",
        "            self.visualize_tree(tree['right'], indent + '  ')\n"
      ],
      "metadata": {
        "id": "ogI-4YGWIbxX"
      },
      "execution_count": 5,
      "outputs": []
    },
    {
      "cell_type": "code",
      "source": [
        "X = np.array(df[['age', 'income', 'student', 'credit_rating']])\n",
        "y = np.array(df['buys_computer'])\n",
        "\n",
        "tree = DecisionTree(max_depth=6)\n",
        "model = tree.fit(X, y)"
      ],
      "metadata": {
        "id": "wdHFgcFjInfq"
      },
      "execution_count": 10,
      "outputs": []
    },
    {
      "cell_type": "code",
      "source": [
        "X_test = np.array([['>40', 'low', 'no', 'fair'], ['<=30', 'low', 'yes', 'fair']])\n",
        "# Convert the test dataset in the same way as the training dataset\n",
        "X_test = np.array([[column_mappings['age'][X_test[0][0]], column_mappings['income'][X_test[0][1]],\n",
        "                    column_mappings['student'][X_test[0][2]], column_mappings['credit_rating'][X_test[0][3]]],\n",
        "                   [column_mappings['age'][X_test[1][0]], column_mappings['income'][X_test[1][1]],\n",
        "                    column_mappings['student'][X_test[1][2]], column_mappings['credit_rating'][X_test[1][3]]]])\n",
        "print(X_test)\n",
        "predictions = tree.predict(X_test, model)\n",
        "\n",
        "print(\"Predictions:\", predictions)\n"
      ],
      "metadata": {
        "colab": {
          "base_uri": "https://localhost:8080/"
        },
        "id": "6bP1vCecIwC8",
        "outputId": "805522b4-7ae4-41f1-b04b-7906d0cb56e2"
      },
      "execution_count": 11,
      "outputs": [
        {
          "output_type": "stream",
          "name": "stdout",
          "text": [
            "[[2 0 0 0]\n",
            " [0 0 1 0]]\n",
            "Predictions: [1, 1]\n"
          ]
        }
      ]
    },
    {
      "cell_type": "code",
      "source": [
        "tree.visualize_tree(model)\n"
      ],
      "metadata": {
        "colab": {
          "base_uri": "https://localhost:8080/"
        },
        "id": "W6knDgI1I5NE",
        "outputId": "0d96c358-06b0-4eb0-88e9-230ce5b76ace"
      },
      "execution_count": 12,
      "outputs": [
        {
          "output_type": "stream",
          "name": "stdout",
          "text": [
            "Feature 2 <= 0\n",
            "True:\n",
            "  Feature 0 <= 0\n",
            "  True:\n",
            "    Class: 0\n",
            "  False:\n",
            "    Feature 0 <= 1\n",
            "    True:\n",
            "      Class: 1\n",
            "    False:\n",
            "      Feature 3 <= 0\n",
            "      True:\n",
            "        Class: 1\n",
            "      False:\n",
            "        Class: 0\n",
            "False:\n",
            "  Feature 0 <= 1\n",
            "  True:\n",
            "    Class: 1\n",
            "  False:\n",
            "    Feature 3 <= 0\n",
            "    True:\n",
            "      Class: 1\n",
            "    False:\n",
            "      Class: 0\n"
          ]
        }
      ]
    }
  ]
}